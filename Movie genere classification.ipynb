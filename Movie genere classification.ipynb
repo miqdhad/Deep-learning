{
 "cells": [
  {
   "cell_type": "markdown",
   "id": "0dfed2dd",
   "metadata": {},
   "source": [
    "###  Movie genere Classification Project"
   ]
  },
  {
   "cell_type": "markdown",
   "id": "20170a0a",
   "metadata": {},
   "source": [
    "***"
   ]
  },
  {
   "cell_type": "markdown",
   "id": "324dff02",
   "metadata": {},
   "source": [
    "### Import necessary libraries"
   ]
  },
  {
   "cell_type": "code",
   "execution_count": 4,
   "id": "d382482c",
   "metadata": {},
   "outputs": [],
   "source": [
    "import pandas as pd\n",
    "import numpy as np\n",
    "import matplotlib.pyplot as plt\n",
    "import seaborn as sns\n",
    "\n",
    "from tensorflow.keras.preprocessing.text import Tokenizer\n",
    "from tensorflow.keras.preprocessing.sequence import pad_sequences\n",
    "from tensorflow.keras.models import Sequential\n",
    "from tensorflow.keras.layers import Embedding, Dense, Dropout, GRU,Input\n",
    "\n",
    "from sklearn.model_selection import train_test_split"
   ]
  },
  {
   "cell_type": "markdown",
   "id": "bde0af29",
   "metadata": {},
   "source": [
    "### Read IMDB Dataset"
   ]
  },
  {
   "cell_type": "code",
   "execution_count": 6,
   "id": "6c0f2108",
   "metadata": {},
   "outputs": [],
   "source": [
    "df = pd.read_csv('Movie genere classification.csv')"
   ]
  },
  {
   "cell_type": "code",
   "execution_count": 7,
   "id": "711e6efa",
   "metadata": {},
   "outputs": [
    {
     "data": {
      "text/html": [
       "<div>\n",
       "<style scoped>\n",
       "    .dataframe tbody tr th:only-of-type {\n",
       "        vertical-align: middle;\n",
       "    }\n",
       "\n",
       "    .dataframe tbody tr th {\n",
       "        vertical-align: top;\n",
       "    }\n",
       "\n",
       "    .dataframe thead th {\n",
       "        text-align: right;\n",
       "    }\n",
       "</style>\n",
       "<table border=\"1\" class=\"dataframe\">\n",
       "  <thead>\n",
       "    <tr style=\"text-align: right;\">\n",
       "      <th></th>\n",
       "      <th>review</th>\n",
       "      <th>sentiment</th>\n",
       "    </tr>\n",
       "  </thead>\n",
       "  <tbody>\n",
       "    <tr>\n",
       "      <th>0</th>\n",
       "      <td>This movie is just crap. Even though the direc...</td>\n",
       "      <td>0</td>\n",
       "    </tr>\n",
       "    <tr>\n",
       "      <th>1</th>\n",
       "      <td>Another detailed work on the subject by Dr Dwi...</td>\n",
       "      <td>1</td>\n",
       "    </tr>\n",
       "    <tr>\n",
       "      <th>2</th>\n",
       "      <td>THE CAT O'NINE TAILS (Il Gatto a Nove Code) &lt;b...</td>\n",
       "      <td>0</td>\n",
       "    </tr>\n",
       "    <tr>\n",
       "      <th>3</th>\n",
       "      <td>Like with any movie genre, there are good gang...</td>\n",
       "      <td>0</td>\n",
       "    </tr>\n",
       "    <tr>\n",
       "      <th>4</th>\n",
       "      <td>I watched it with my mom and we were like...&lt;b...</td>\n",
       "      <td>0</td>\n",
       "    </tr>\n",
       "  </tbody>\n",
       "</table>\n",
       "</div>"
      ],
      "text/plain": [
       "                                              review  sentiment\n",
       "0  This movie is just crap. Even though the direc...          0\n",
       "1  Another detailed work on the subject by Dr Dwi...          1\n",
       "2  THE CAT O'NINE TAILS (Il Gatto a Nove Code) <b...          0\n",
       "3  Like with any movie genre, there are good gang...          0\n",
       "4  I watched it with my mom and we were like...<b...          0"
      ]
     },
     "execution_count": 7,
     "metadata": {},
     "output_type": "execute_result"
    }
   ],
   "source": [
    "df.head()"
   ]
  },
  {
   "cell_type": "markdown",
   "id": "65c1e3b9",
   "metadata": {},
   "source": [
    "### Check Info"
   ]
  },
  {
   "cell_type": "code",
   "execution_count": 9,
   "id": "14a066b0",
   "metadata": {},
   "outputs": [
    {
     "name": "stdout",
     "output_type": "stream",
     "text": [
      "<class 'pandas.core.frame.DataFrame'>\n",
      "RangeIndex: 49969 entries, 0 to 49968\n",
      "Data columns (total 2 columns):\n",
      " #   Column     Non-Null Count  Dtype \n",
      "---  ------     --------------  ----- \n",
      " 0   review     49969 non-null  object\n",
      " 1   sentiment  49969 non-null  int64 \n",
      "dtypes: int64(1), object(1)\n",
      "memory usage: 780.9+ KB\n"
     ]
    }
   ],
   "source": [
    "df.info()"
   ]
  },
  {
   "cell_type": "markdown",
   "id": "bbde79dc",
   "metadata": {},
   "source": [
    "### View descriptive stats"
   ]
  },
  {
   "cell_type": "code",
   "execution_count": 11,
   "id": "725be31e",
   "metadata": {},
   "outputs": [
    {
     "data": {
      "text/html": [
       "<div>\n",
       "<style scoped>\n",
       "    .dataframe tbody tr th:only-of-type {\n",
       "        vertical-align: middle;\n",
       "    }\n",
       "\n",
       "    .dataframe tbody tr th {\n",
       "        vertical-align: top;\n",
       "    }\n",
       "\n",
       "    .dataframe thead th {\n",
       "        text-align: right;\n",
       "    }\n",
       "</style>\n",
       "<table border=\"1\" class=\"dataframe\">\n",
       "  <thead>\n",
       "    <tr style=\"text-align: right;\">\n",
       "      <th></th>\n",
       "      <th>sentiment</th>\n",
       "    </tr>\n",
       "  </thead>\n",
       "  <tbody>\n",
       "    <tr>\n",
       "      <th>count</th>\n",
       "      <td>49969.000000</td>\n",
       "    </tr>\n",
       "    <tr>\n",
       "      <th>mean</th>\n",
       "      <td>0.499950</td>\n",
       "    </tr>\n",
       "    <tr>\n",
       "      <th>std</th>\n",
       "      <td>0.500005</td>\n",
       "    </tr>\n",
       "    <tr>\n",
       "      <th>min</th>\n",
       "      <td>0.000000</td>\n",
       "    </tr>\n",
       "    <tr>\n",
       "      <th>25%</th>\n",
       "      <td>0.000000</td>\n",
       "    </tr>\n",
       "    <tr>\n",
       "      <th>50%</th>\n",
       "      <td>0.000000</td>\n",
       "    </tr>\n",
       "    <tr>\n",
       "      <th>75%</th>\n",
       "      <td>1.000000</td>\n",
       "    </tr>\n",
       "    <tr>\n",
       "      <th>max</th>\n",
       "      <td>1.000000</td>\n",
       "    </tr>\n",
       "  </tbody>\n",
       "</table>\n",
       "</div>"
      ],
      "text/plain": [
       "          sentiment\n",
       "count  49969.000000\n",
       "mean       0.499950\n",
       "std        0.500005\n",
       "min        0.000000\n",
       "25%        0.000000\n",
       "50%        0.000000\n",
       "75%        1.000000\n",
       "max        1.000000"
      ]
     },
     "execution_count": 11,
     "metadata": {},
     "output_type": "execute_result"
    }
   ],
   "source": [
    "df.describe()"
   ]
  },
  {
   "cell_type": "code",
   "execution_count": 12,
   "id": "40df2b51-ad4c-4b7c-8453-b76f53e729fd",
   "metadata": {},
   "outputs": [
    {
     "data": {
      "text/plain": [
       "sentiment\n",
       "0    24987\n",
       "1    24982\n",
       "Name: count, dtype: int64"
      ]
     },
     "execution_count": 12,
     "metadata": {},
     "output_type": "execute_result"
    }
   ],
   "source": [
    "df['sentiment'].value_counts()"
   ]
  },
  {
   "cell_type": "markdown",
   "id": "cf3f09ff",
   "metadata": {},
   "source": [
    "### Check for imbalanced data"
   ]
  },
  {
   "cell_type": "code",
   "execution_count": 14,
   "id": "62740f04-a27a-47b5-9e78-84cfd4946265",
   "metadata": {},
   "outputs": [
    {
     "data": {
      "image/png": "[encoded data removed]",
      "text/plain": [
       "<Figure size 400x400 with 1 Axes>"
      ]
     },
     "metadata": {},
     "output_type": "display_data"
    },
    {
     "data": {
      "image/png": "[encoded data removed]",
      "text/plain": [
       "<Figure size 640x480 with 1 Axes>"
      ]
     },
     "metadata": {},
     "output_type": "display_data"
    }
   ],
   "source": [
    "plt.figure (figsize=(4,4))\n",
    "sns.countplot(y = 'sentiment', data = df)\n",
    "plt.show()\n",
    "\n",
    "plt.pie(df['sentiment'].value_counts(),labels=['sentiment','count'],autopct='%0.02f')\n",
    "plt.show()"
   ]
  },
  {
   "cell_type": "markdown",
   "id": "176350f2",
   "metadata": {},
   "source": [
    "### Create a function to Preprocess the review column"
   ]
  },
  {
   "cell_type": "code",
   "execution_count": 16,
   "id": "8f1587c3",
   "metadata": {},
   "outputs": [],
   "source": [
    "import re\n",
    "from nltk.corpus import stopwords\n",
    "from nltk.stem import WordNetLemmatizer"
   ]
  },
  {
   "cell_type": "code",
   "execution_count": 17,
   "id": "5dfaeaea",
   "metadata": {},
   "outputs": [],
   "source": [
    "def preprocess(sentence):\n",
    "    #removes all the special characters and split the sentence at spaces\n",
    "    text = re.sub(r\"[^a-zA-Z0-9]\",\" \",sentence).split()\n",
    "    \n",
    "    # converts words to lowercase and removes any stopwords\n",
    "    words = [x.lower() for x in text if x not in stopwords.words('english')]\n",
    "    \n",
    "    # Lemmatize the words\n",
    "    lemma = WordNetLemmatizer()\n",
    "    word = [lemma.lemmatize(word,'v') for word in words ]\n",
    "    \n",
    "    # convert the list of words back into a sentence\n",
    "    word = ' '.join(word)\n",
    "    return word"
   ]
  },
  {
   "cell_type": "markdown",
   "id": "9253f786",
   "metadata": {},
   "source": [
    "### Print some text after applying the function"
   ]
  },
  {
   "cell_type": "code",
   "execution_count": 19,
   "id": "5d03eedc-4e66-4972-a815-c7bcad21cff9",
   "metadata": {},
   "outputs": [
    {
     "name": "stdout",
     "output_type": "stream",
     "text": [
      "This movie is just crap. Even though the directors claim to be part of that oi-culture, it's still a very, very bad directorial debut. The topic itself is very interesting and I accept the bad acting due to the fact, that they are all amateurs and never acted before, but the worst thing about this film are the dialogs and very unexperienced and naive directing. There's no timing at all in that movie. I felt like the directors were so exited to do that movie (it's their first feature), that they actually never really asked themselves, what story they wanna tell. I met Ben (one of the directors) on several occasions and he's a nice and thoughtful guy, but that doesn't make him a director. I think, that \"American History X\" is full of clichÃ©s, but somehow manages to transport a story. \"Oi!Warning\" is full of clichÃ©s, doesn't tell anything new or provocative and (-that's the sad thing about this movie) it's far from any Oi!-Reality.<br /><br />If you wanna see weird but great German films, watch the movies of Michael Haneke, Christoph Schlingensief, Oskar Roehler, Hans Weingartner or Oliver Hirschbiegel:<br /><br />Benny's Video Funny Games Die UnberÃ¼hrbare Mein Letzter Film Das Experiment Das Weisse Rauschen MuxmÃ¤uschenstill ...<br /><br />*** out of ten, because of the topic and the photography\n",
      "\n",
      "Another detailed work on the subject by Dr Dwivedi takes us back in time to pre-partioned Panjab. Dr Dwivedi chose a difficult subject for his movie debut. He has worked on all meticulous details to bring the story to life. The treatment of the subject is very delicate.<br /><br />Even though we have not been to the region during that time, the sets and costumes look real. Unlike most movies made on partition, this one focuses not on the gory details of violence to attract audience, but on its after-effects. The characters come to life. Priyanshu Chatterjee has given an impressive performance. Manoj Bajpai has acted his heart out showing the plight of a guilt-ridden man. The rest of the cast has done a good job too.\n",
      "\n",
      "THE CAT O'NINE TAILS (Il Gatto a Nove Code) <br /><br />Aspect ratio: 2.35:1 (Cromoscope)<br /><br />Sound format: Mono<br /><br />(35mm and 70mm release prints)<br /><br />A blind ex-journalist (Karl Malden) overhears a blackmail plot outside a genetics research laboratory and later teams up with a fellow reporter (James Franciscus) to investigate a series of murders at the lab, unwittingly placing their own loved ones at the mercy of a psychopathic killer.<br /><br />Rushed into production following the unexpected worldwide success of his directorial debut THE BIRD WITH THE CRYSTAL PLUMAGE (1969), Dario Argento conceived THE CAT O'NINE TAILS as a giallo-thriller in much the same vein as its forerunner, toplining celebrated Hollywood actor Karl Malden - fresh from his appearance in PATTON (1969) - and rising star Franciscus (THE VALLEY OF GWANGI). Sadly, the resulting film - which the ads claimed was 'nine times more suspenseful' than \"Bird\" - is a disappointing follow-up, impeccably photographed and stylishly executed, but too plodding and aimless for general consumption.<br /><br />Malden and Franciscus are eminently watchable in sympathetic roles, and cinematographer Enrico Menczer (THE DEAD ARE ALIVE) uses the wide Cromoscope frame to convey the hi-tech world in which Argento's dark-hearted scenario unfolds, but the subplot involving Euro starlet Catherine Spaak (THE LIBERTINE) as Franciscus' romantic interest amounts to little more than unnecessary padding. Highlights include an unforgettable encounter with the black-gloved assassin in a crowded railway station (edited with sleek assurance by cult movie stalwart Franco Fraticelli), and a nocturnal episode in which Malden and Franciscus seek an important clue inside a mouldering tomb and fall prey to the killer's devious machinations. But despite these flashes of brilliance, the film rambles aimlessly from one scene to the next, simmering gently without ever really coming to the boil. It's no surprise that \"Cat\" failed to emulate the runaway success of \"Bird\" when released in 1971.<br /><br />(English version)\n",
      "\n",
      "Like with any movie genre, there are good gangster movies and there are bad gangster movies. If you asked me to name a good gangster movie, I'd have dozens to choose from. If you asked me to name a bad gangster movie, probably the first one to pop up in my mind is one that still has me in a sort of depression of disappointment about a week since I saw the film for the first and I promise you, the last time. That film is \"The General\", unrelated to the 1926 silent film of the same name. This is a very dry, very slow gangster epic that raises questions not about the story (it's more than easy to follow) but about why the filmmakers chose to make this rather flimsy endeavor.<br /><br />Like \"Goodfellas\" (1990) and \"American Gangster\" (2007)Â—two superior mob moviesÂ—\"The General\" is based on real people and true events. The film revolves around an Irish criminal named Martin Cahill (Brendan Gleeson) who started his long chain of crimes stealing food as a teenager and then moving up to robbing museums and houses as an adult. Meanwhile, the police led by an inspector named Kenny (Jon Voight) try desperately and vigorously to prove just one of his crimes and convict (or kill) him.<br /><br />Perhaps because it's a film in the same category as the marvelous \"Goodfellas\" (1990) and the first two \"Godfather\" films, I was expecting too much from \"The General.\" But that may be going too easy on it. This would have been a bad film had I not seen the aforementioned masterpieces before being swamped by boredom in this oater and its far-too-stretched running time of screaming bad scenes. Let's start knocking the film by just looking at the style in which it is presented. For some reason, director John Boorman and cinematographer Seamus Deasy selected to film this movie in black-and-white while its style and presentation are clearly the elements that belong to a full-fledged color film. Now I have nothing against b/w pictures, not even ones made in modern-day times. \"Schindler's List\" (1993) was more than ninety percent filmed in black-and-white and it's a masterpiece. \"The General\", made just five years after \"Schindler's List\" is not. The cinematography is also far too blown out with high lighting keys that seem very distracting and give the movie a very video-game-like quality that I found simply annoying. The filmmakers were obviously going for a realist's documentary-like style, like \"Schindler's List\" did, but they fail by making it seem too much like a documentary and at the same time, too much like a classic-style motion picture. Performances in the film range from passable to poor. Brendan Gleeson and Jon Voight gave decent enthusiasm for their roles, but it seemed to me at times that even they were getting kind of run down by the awful screenplay from which they were quoting. The sound design is also very primitive, probably in an attempt to give it a 40s crime-noir appeal, but that also fails because again, it's made too much like a contemporary picture and seems vastly out of place.<br /><br />But the worst thing that occurs is that there's not oneÂ—not oneÂ—character in the film that I felt any emotions or opinions for. In fact, for every moment of every scene, the only thought going through my head was \"okayÂ…so what?\" Moments that in a better film might come across as shocking or appalling are just dull and time-consuming here. I did not sympathize or hate the Brendan Gleeson character because the way the Cahill character is written is simply flat and dull. Gleeson just plays the common criminal and does not strike out with the impact the real Martin Cahill obviously did. If a character is killed off (as they always are in gangster films), we feel nothing. No remorse, no relief, no surprise, nothing. We just say \"so what?\" And that's all I did during the entire running time of this very flimsy, very poorly-made crime film.\n",
      "\n",
      "I watched it with my mom and we were like...<br /><br />What the hell? We didn't get it at all. I may have this wrong, but a chair had something to do with the death of this woman's father. That movie was terrible! This is not a movie for those who love a good suspense movie. Bad suspense movie! *shakes cane at movie* I'm never seeing it again. And I'm a big fan of lifetime movies, too! They kinda need to quit trying to make movies outta books. It's driving me crazy!!!<br /><br />And Whit was butt-ugly and yet, she loves him more than Hugh, who was a TINY bit nicer-looking.<br /><br />My rating: 1/10\n",
      "\n",
      "This movie is probably one of 3 worst movies made in history. I rented this by chance, without reading reviews, and wow, do I regret it. Really has no plot, doesn't really follow the vampire genre. Just plain god awful. Watching this movie will taint your enthusiasm for vampire movies. I felt like the writer/director/producer went on this drug binge and had hallucinations and tried to recreate it on film. Whole time I wanted the movie to end.. but the ending was even more whacked. <br /><br />If this review can save just one person from watching this crap, I felt my time spent on registration and writing this review was well worth it.\n",
      "\n",
      "this movie is quite bad, aggressive, not played well, not directed well, seems low budget, low quality,emotionaly weak and disconnected. after watching earlier comments, went to see it, but if u try to compare it with apocalypse now, PLATOON, or any others, u'r really off the tracks. this movie looks like a 60's old and purely made film with cast of grown neanderthals, not to mention (or actually do), not paying attention to details like changing rounds, low budget fireworks and all sorts of poorly filmed characteristic. is watchable though, if u'd like to see it as an early development of the movies document.. not to go back!!<br /><br />p.s - afterall, the guys are quite alright.\n",
      "\n",
      "And a perfect film to watch during the holiday season as the winter/Xmas atmosphere that Burton creates for Gotham City is way cool. It's weird that Warner decided to release this as a summer film. It doesn't fit.<br /><br />But what's even weirder, when you consider the content of this film, is that it was aimed at families. An upper-class family throws their mutant baby down the sewer, a socio phobic billionaire dresses up in leather as a flying rodent, a lonely secretary dresses up in leather as a feline and a freak runs for political office. And S&M and bondage are presented in a very perverted way. But Burton got away with it. His visual style in this film is at it's best.<br /><br />This and Batman: Dead End are the only true live-action incarnations of the comic-book character. True, the animated series was the closest to the source material, but compared with Batman Forever and the un-nameable one after that, Batman Returns is the best of the four.<br /><br />Darker and more violent than the first movie, the sense of Gothic pathos reaches a new high. I was quite keen on Michael Keaton as Bruce Wayne (don't even get me started on George Clooney!), he displayed the right balance of weirdo loner and cool crime fighter. Michelle Pfieffer is great as Catwoman (much sexier and more 'realisticly' cat-like), she wears that leather outfit better than Halle Berry. And Danny DeVito was so convincing as the Penguin that his scenes became disturbing to watch. And Christopher Walken is brilliant as the spooky Max Shreck (if you think you recognise Chip Shrek it's none other than a very young Leatherface/Butterfinger).<br /><br />Danny Elfman's score is also even better than it was first time round. His powerful and engaging themes are way better than the dross that followed in the later 2 Schumacher movies. This movie is the Batman phenomenon at its Zenith. Forget the following sequels and stick to the animated series after this. Let's hope that Christopher Nolan and Christian Bale can bring some integrity back to the live action Batman with their movie next year.<br /><br />This DVD was one of the first ever DVDs released by Warner (almost 7 years ago!!!) and as a result there are NO features and the case is a snapper. Pick it up cheap like I did and hope for an SE in the future.\n",
      "\n",
      "I like Noel Coward, the wit. I like Noel Coward, the play write. I like Noel Coward, the composer and singer, but I loathe Noel Coward the actor.<br /><br />To me this is a man who should have stayed firmly behind the scenes, writing his plays and composing his music and making his profound and hilarious observations. He should never have been allowed in front of a camera.<br /><br />Make no mistake, he is one of the top outstanding talents of the 20th century but the man just couldn't act, and his voice...with it's rolling R's and it's overly round tonal quality...well it could quite easily grate cheese in my opinion.<br /><br />This is one of my least favourite offerings from Coward, as he unconvincingly portrays a psychiatrist embarking on an affair with a much younger woman, made worse by the fact that the much younger woman is an old school friend of his much younger wife.<br /><br />Celia Johnson is as much a joy to watch as ever as Cowards wronged wife. It is her performance that saves this film from abject dullness. I suppose her own little fling in Coward's Brief Encounter four years previously qualified her for this role as she must have raised a few eyebrows playing a such a promiscuous woman and this gave her the chance to win back a few fans and gain some lost sympathy.<br /><br />She was such a wonderful actress and you can see why Noel Coward used her so much in many of his productions.<br /><br />However the rest of the film is drab, badly acted, predictable and on the whole boring to almost arse-clenching level.<br /><br />If its Noel Coward you want then take the time to watch In Which We Serve, Blythe Spirit or This Happy Breed instead. Three Noel Coward treasures. With lovely films like these I suppose we can forgive him for this turkey.<br /><br />I have given this four stars purely for the addition of Miss Johnson, but on the whole I'd avoid this one like the plague.\n",
      "\n",
      "\"The Days\" is a typical family drama with a little catch - you must relate to the character's emotions in every way possible in order for you to truly appreciate the show.<br /><br />[Possible Spoilers For Those Who Are Unfamiliar With the Show]<br /><br />The story, obviously, for all the people who has watched the show, is the world of Cooper Day, the middle child of the family. He records his days with his family and hopes to become a rich and famous writer one day because of his observations. His family includes a mother, a father, a perfect sister, and a genius-little-brother. The first episode, which is going to sound a bit stupid since John Scott Shepard has created this situation - both the sister and mother gets pregnant. That's the first situation the writer hits. Then the father quits his job at the law firm. The youngest son gets a panic attack. The middle child gets in a fight with the sister's boyfriend. This is all in a day's work.<br /><br />[/Spoilers]<br /><br />I admire this show. I don't know. It's a bit crappy but I like it. First I thought the camera-work was a ripoff but then I got used it and started to like it. I liked the quiet conversations under a dark light. I liked the intimate feeling of the show. I liked the low-budget style. I liked the acting. I admire the story. Then I find myself wanting a second season of The Days. I slowly became a fan of it as the 6-episode airing on ABC came to an end. It's a really good show and it's nothing like The OC. The two have nothing in common. So I hope fans will stop comparing them.<br /><br />And if you can relate to either Abby, Jack, Natalie, Cooper or even Nate, you'll like this show. A lot.\n",
      "\n"
     ]
    }
   ],
   "source": [
    "for i in range(10):\n",
    "    print(df['review'][i])\n",
    "    print()"
   ]
  },
  {
   "cell_type": "markdown",
   "id": "450434bf",
   "metadata": {},
   "source": [
    "### Split the dataset into Input (X) & Target (y) variable"
   ]
  },
  {
   "cell_type": "code",
   "execution_count": 21,
   "id": "e1b928f7-248e-428d-a1b9-13bddcaf9e8e",
   "metadata": {},
   "outputs": [],
   "source": [
    "x = df['review']\n",
    "y = df['sentiment']"
   ]
  },
  {
   "cell_type": "code",
   "execution_count": 22,
   "id": "05f8e2b1-3852-401d-b962-84d7a424c77b",
   "metadata": {},
   "outputs": [
    {
     "data": {
      "text/plain": [
       "0        0\n",
       "1        1\n",
       "2        0\n",
       "3        0\n",
       "4        0\n",
       "        ..\n",
       "49964    0\n",
       "49965    0\n",
       "49966    0\n",
       "49967    0\n",
       "49968    1\n",
       "Name: sentiment, Length: 49969, dtype: int64"
      ]
     },
     "execution_count": 22,
     "metadata": {},
     "output_type": "execute_result"
    }
   ],
   "source": [
    "y"
   ]
  },
  {
   "cell_type": "markdown",
   "id": "567f8084",
   "metadata": {},
   "source": [
    "### Convert y variable values into 0 and 1 from positive and negative"
   ]
  },
  {
   "cell_type": "markdown",
   "id": "c086feab",
   "metadata": {},
   "source": [
    "### Create Keras tokenizer object with 5000 max words\n",
    "* Convert text to sequence\n",
    "* Add padding"
   ]
  },
  {
   "cell_type": "code",
   "execution_count": 25,
   "id": "4d29d0ad",
   "metadata": {},
   "outputs": [],
   "source": [
    "from tensorflow.keras.preprocessing.text import Tokenizer\n",
    "from tensorflow.keras.preprocessing.sequence import pad_sequences"
   ]
  },
  {
   "cell_type": "code",
   "execution_count": 26,
   "id": "95c231de",
   "metadata": {},
   "outputs": [],
   "source": [
    "tokenizer = Tokenizer(num_words=5000)"
   ]
  },
  {
   "cell_type": "code",
   "execution_count": 27,
   "id": "b44170aa-1d65-45d1-98cf-f2051819e578",
   "metadata": {},
   "outputs": [],
   "source": [
    "x_train, x_test, y_train, y_test = train_test_split(x,y, test_size = 0.20)"
   ]
  },
  {
   "cell_type": "code",
   "execution_count": 28,
   "id": "ee4f32ee-6b81-48f5-b513-2d8fb4708b92",
   "metadata": {},
   "outputs": [],
   "source": [
    "tokenizer.fit_on_texts(x_train)"
   ]
  },
  {
   "cell_type": "code",
   "execution_count": 29,
   "id": "637ed2c9-d996-4b81-a116-2177a9491f32",
   "metadata": {},
   "outputs": [
    {
     "data": {
      "text/plain": [
       "{1: 'the',\n",
       " 2: 'and',\n",
       " 3: 'a',\n",
       " 4: 'of',\n",
       " 5: 'to',\n",
       " 6: 'is',\n",
       " 7: 'br',\n",
       " 8: 'in',\n",
       " 9: 'it',\n",
       " 10: 'i',\n",
       " 11: 'this',\n",
       " 12: 'that',\n",
       " 13: 'was',\n",
       " 14: 'as',\n",
       " 15: 'for',\n",
       " 16: 'with',\n",
       " 17: 'movie',\n",
       " 18: 'but',\n",
       " 19: 'film',\n",
       " 20: 'on',\n",
       " 21: 'not',\n",
       " 22: 'you',\n",
       " 23: 'are',\n",
       " 24: 'his',\n",
       " 25: 'have',\n",
       " 26: 'be',\n",
       " 27: 'one',\n",
       " 28: 'he',\n",
       " 29: 'all',\n",
       " 30: 'at',\n",
       " 31: 'by',\n",
       " 32: 'an',\n",
       " 33: 'they',\n",
       " 34: 'so',\n",
       " 35: 'who',\n",
       " 36: 'from',\n",
       " 37: 'like',\n",
       " 38: 'or',\n",
       " 39: 'just',\n",
       " 40: 'her',\n",
       " 41: 'out',\n",
       " 42: 'about',\n",
       " 43: 'if',\n",
       " 44: \"it's\",\n",
       " 45: 'has',\n",
       " 46: 'there',\n",
       " 47: 'some',\n",
       " 48: 'what',\n",
       " 49: 'good',\n",
       " 50: 'more',\n",
       " 51: 'when',\n",
       " 52: 'very',\n",
       " 53: 'up',\n",
       " 54: 'no',\n",
       " 55: 'time',\n",
       " 56: 'my',\n",
       " 57: 'even',\n",
       " 58: 'would',\n",
       " 59: 'she',\n",
       " 60: 'which',\n",
       " 61: 'only',\n",
       " 62: 'really',\n",
       " 63: 'see',\n",
       " 64: 'story',\n",
       " 65: 'their',\n",
       " 66: 'had',\n",
       " 67: 'can',\n",
       " 68: 'me',\n",
       " 69: 'were',\n",
       " 70: 'well',\n",
       " 71: 'we',\n",
       " 72: 'much',\n",
       " 73: 'than',\n",
       " 74: 'bad',\n",
       " 75: 'get',\n",
       " 76: 'been',\n",
       " 77: 'do',\n",
       " 78: 'will',\n",
       " 79: 'other',\n",
       " 80: 'great',\n",
       " 81: 'also',\n",
       " 82: 'into',\n",
       " 83: 'people',\n",
       " 84: 'first',\n",
       " 85: 'him',\n",
       " 86: 'because',\n",
       " 87: 'how',\n",
       " 88: 'most',\n",
       " 89: \"don't\",\n",
       " 90: 'then',\n",
       " 91: 'made',\n",
       " 92: 'them',\n",
       " 93: 'make',\n",
       " 94: 'its',\n",
       " 95: 'way',\n",
       " 96: 'too',\n",
       " 97: 'could',\n",
       " 98: 'movies',\n",
       " 99: 'any',\n",
       " 100: 'after',\n",
       " 101: 'think',\n",
       " 102: 'characters',\n",
       " 103: 'watch',\n",
       " 104: 'films',\n",
       " 105: 'two',\n",
       " 106: 'many',\n",
       " 107: 'seen',\n",
       " 108: 'character',\n",
       " 109: 'being',\n",
       " 110: 'never',\n",
       " 111: 'love',\n",
       " 112: 'plot',\n",
       " 113: 'acting',\n",
       " 114: 'life',\n",
       " 115: 'did',\n",
       " 116: 'know',\n",
       " 117: 'best',\n",
       " 118: 'where',\n",
       " 119: 'show',\n",
       " 120: 'little',\n",
       " 121: 'over',\n",
       " 122: 'ever',\n",
       " 123: 'off',\n",
       " 124: 'your',\n",
       " 125: 'does',\n",
       " 126: 'better',\n",
       " 127: 'end',\n",
       " 128: 'man',\n",
       " 129: 'scene',\n",
       " 130: 'still',\n",
       " 131: 'say',\n",
       " 132: 'these',\n",
       " 133: 'why',\n",
       " 134: 'scenes',\n",
       " 135: 'here',\n",
       " 136: 'while',\n",
       " 137: 'something',\n",
       " 138: 'such',\n",
       " 139: 'go',\n",
       " 140: 'back',\n",
       " 141: 'through',\n",
       " 142: 'should',\n",
       " 143: 'those',\n",
       " 144: 'real',\n",
       " 145: \"i'm\",\n",
       " 146: 'now',\n",
       " 147: 'thing',\n",
       " 148: 'watching',\n",
       " 149: \"doesn't\",\n",
       " 150: 'actors',\n",
       " 151: \"didn't\",\n",
       " 152: 'though',\n",
       " 153: 'funny',\n",
       " 154: 'years',\n",
       " 155: 'old',\n",
       " 156: 'before',\n",
       " 157: 'work',\n",
       " 158: '10',\n",
       " 159: 'another',\n",
       " 160: 'actually',\n",
       " 161: 'look',\n",
       " 162: 'nothing',\n",
       " 163: 'makes',\n",
       " 164: 'director',\n",
       " 165: 'find',\n",
       " 166: 'going',\n",
       " 167: 'lot',\n",
       " 168: 'new',\n",
       " 169: 'same',\n",
       " 170: 'every',\n",
       " 171: 'part',\n",
       " 172: 'few',\n",
       " 173: 'again',\n",
       " 174: 'us',\n",
       " 175: 'cast',\n",
       " 176: 'down',\n",
       " 177: 'want',\n",
       " 178: 'things',\n",
       " 179: 'world',\n",
       " 180: 'pretty',\n",
       " 181: 'quite',\n",
       " 182: 'around',\n",
       " 183: 'take',\n",
       " 184: 'seems',\n",
       " 185: \"can't\",\n",
       " 186: 'horror',\n",
       " 187: 'thought',\n",
       " 188: 'got',\n",
       " 189: 'young',\n",
       " 190: 'enough',\n",
       " 191: 'however',\n",
       " 192: 'big',\n",
       " 193: 'long',\n",
       " 194: 'fact',\n",
       " 195: 'both',\n",
       " 196: \"that's\",\n",
       " 197: 'give',\n",
       " 198: \"i've\",\n",
       " 199: 'may',\n",
       " 200: 'own',\n",
       " 201: 'between',\n",
       " 202: 'music',\n",
       " 203: 'right',\n",
       " 204: 'comedy',\n",
       " 205: 'saw',\n",
       " 206: 'action',\n",
       " 207: 'must',\n",
       " 208: 'without',\n",
       " 209: 'series',\n",
       " 210: 'original',\n",
       " 211: 'always',\n",
       " 212: 'come',\n",
       " 213: \"isn't\",\n",
       " 214: 'times',\n",
       " 215: 'almost',\n",
       " 216: 'guy',\n",
       " 217: 'role',\n",
       " 218: 'done',\n",
       " 219: 'interesting',\n",
       " 220: 'point',\n",
       " 221: 'gets',\n",
       " 222: \"there's\",\n",
       " 223: 'whole',\n",
       " 224: 'least',\n",
       " 225: 'bit',\n",
       " 226: 'far',\n",
       " 227: 'script',\n",
       " 228: 'feel',\n",
       " 229: 'minutes',\n",
       " 230: 'might',\n",
       " 231: 'making',\n",
       " 232: 'anything',\n",
       " 233: 'since',\n",
       " 234: 'last',\n",
       " 235: '2',\n",
       " 236: 'am',\n",
       " 237: 'family',\n",
       " 238: \"he's\",\n",
       " 239: 'tv',\n",
       " 240: 'probably',\n",
       " 241: 'away',\n",
       " 242: 'kind',\n",
       " 243: 'performance',\n",
       " 244: 'yet',\n",
       " 245: 'fun',\n",
       " 246: 'worst',\n",
       " 247: 'rather',\n",
       " 248: 'anyone',\n",
       " 249: 'sure',\n",
       " 250: 'girl',\n",
       " 251: 'found',\n",
       " 252: 'hard',\n",
       " 253: 'day',\n",
       " 254: 'each',\n",
       " 255: 'played',\n",
       " 256: 'looking',\n",
       " 257: 'woman',\n",
       " 258: 'screen',\n",
       " 259: 'especially',\n",
       " 260: 'our',\n",
       " 261: 'believe',\n",
       " 262: 'having',\n",
       " 263: 'although',\n",
       " 264: 'course',\n",
       " 265: 'trying',\n",
       " 266: 'dvd',\n",
       " 267: 'place',\n",
       " 268: 'set',\n",
       " 269: 'everything',\n",
       " 270: 'put',\n",
       " 271: 'maybe',\n",
       " 272: 'ending',\n",
       " 273: 'comes',\n",
       " 274: 'book',\n",
       " 275: 'goes',\n",
       " 276: 'three',\n",
       " 277: 'shows',\n",
       " 278: 'worth',\n",
       " 279: 'different',\n",
       " 280: 'sense',\n",
       " 281: 'once',\n",
       " 282: 'main',\n",
       " 283: 'looks',\n",
       " 284: 'reason',\n",
       " 285: 'effects',\n",
       " 286: 'money',\n",
       " 287: 'american',\n",
       " 288: 'play',\n",
       " 289: 'actor',\n",
       " 290: 'someone',\n",
       " 291: \"wasn't\",\n",
       " 292: 'true',\n",
       " 293: 'job',\n",
       " 294: 'war',\n",
       " 295: 'watched',\n",
       " 296: 'together',\n",
       " 297: 'instead',\n",
       " 298: 'during',\n",
       " 299: 'half',\n",
       " 300: 'year',\n",
       " 301: 'said',\n",
       " 302: 'takes',\n",
       " 303: 'high',\n",
       " 304: '1',\n",
       " 305: 'everyone',\n",
       " 306: 'plays',\n",
       " 307: 'left',\n",
       " 308: 'audience',\n",
       " 309: 'later',\n",
       " 310: 'seem',\n",
       " 311: 'special',\n",
       " 312: 'john',\n",
       " 313: 'himself',\n",
       " 314: 'night',\n",
       " 315: 'beautiful',\n",
       " 316: 'seeing',\n",
       " 317: 'idea',\n",
       " 318: 'shot',\n",
       " 319: 'black',\n",
       " 320: 'version',\n",
       " 321: 'excellent',\n",
       " 322: 'house',\n",
       " 323: 'mind',\n",
       " 324: 'star',\n",
       " 325: 'fan',\n",
       " 326: 'death',\n",
       " 327: 'wife',\n",
       " 328: 'nice',\n",
       " 329: 'simply',\n",
       " 330: 'completely',\n",
       " 331: '3',\n",
       " 332: 'poor',\n",
       " 333: 'used',\n",
       " 334: 'else',\n",
       " 335: \"you're\",\n",
       " 336: 'second',\n",
       " 337: 'budget',\n",
       " 338: 'read',\n",
       " 339: 'short',\n",
       " 340: 'less',\n",
       " 341: 'men',\n",
       " 342: 'top',\n",
       " 343: 'help',\n",
       " 344: 'along',\n",
       " 345: 'home',\n",
       " 346: 'dead',\n",
       " 347: 'line',\n",
       " 348: 'either',\n",
       " 349: 'production',\n",
       " 350: 'full',\n",
       " 351: 'friends',\n",
       " 352: 'camera',\n",
       " 353: 'use',\n",
       " 354: 'boring',\n",
       " 355: 'try',\n",
       " 356: 'low',\n",
       " 357: 'wrong',\n",
       " 358: 'enjoy',\n",
       " 359: 'need',\n",
       " 360: 'stupid',\n",
       " 361: 'rest',\n",
       " 362: 'given',\n",
       " 363: 'hollywood',\n",
       " 364: 'classic',\n",
       " 365: 'next',\n",
       " 366: 'kids',\n",
       " 367: 'father',\n",
       " 368: 'performances',\n",
       " 369: 'until',\n",
       " 370: 'sex',\n",
       " 371: 'truly',\n",
       " 372: 'awful',\n",
       " 373: 'women',\n",
       " 374: 'video',\n",
       " 375: 'start',\n",
       " 376: 'school',\n",
       " 377: 'let',\n",
       " 378: 'couple',\n",
       " 379: 'recommend',\n",
       " 380: 'tell',\n",
       " 381: 'came',\n",
       " 382: 'terrible',\n",
       " 383: 'mean',\n",
       " 384: 'remember',\n",
       " 385: 'getting',\n",
       " 386: 'moments',\n",
       " 387: 'perhaps',\n",
       " 388: 'understand',\n",
       " 389: 'keep',\n",
       " 390: 'face',\n",
       " 391: 'small',\n",
       " 392: 'name',\n",
       " 393: 'wonderful',\n",
       " 394: 'itself',\n",
       " 395: 'definitely',\n",
       " 396: 'style',\n",
       " 397: 'human',\n",
       " 398: 'playing',\n",
       " 399: 'perfect',\n",
       " 400: 'person',\n",
       " 401: 'early',\n",
       " 402: 'written',\n",
       " 403: 'others',\n",
       " 404: 'stars',\n",
       " 405: 'episode',\n",
       " 406: 'dialogue',\n",
       " 407: 'doing',\n",
       " 408: 'often',\n",
       " 409: 'head',\n",
       " 410: 'piece',\n",
       " 411: 'lines',\n",
       " 412: \"couldn't\",\n",
       " 413: 'finally',\n",
       " 414: 'gives',\n",
       " 415: 'laugh',\n",
       " 416: 'case',\n",
       " 417: 'absolutely',\n",
       " 418: 'title',\n",
       " 419: 'boy',\n",
       " 420: 'worse',\n",
       " 421: 'oh',\n",
       " 422: 'went',\n",
       " 423: 'hope',\n",
       " 424: 'yes',\n",
       " 425: 'mother',\n",
       " 426: 'liked',\n",
       " 427: 'live',\n",
       " 428: 'certainly',\n",
       " 429: 'called',\n",
       " 430: 'become',\n",
       " 431: 'lost',\n",
       " 432: 'sort',\n",
       " 433: 'picture',\n",
       " 434: 'sound',\n",
       " 435: 'loved',\n",
       " 436: 'entertaining',\n",
       " 437: 'several',\n",
       " 438: 'supposed',\n",
       " 439: 'felt',\n",
       " 440: 'entire',\n",
       " 441: 'overall',\n",
       " 442: 'mr',\n",
       " 443: 'based',\n",
       " 444: 'waste',\n",
       " 445: 'guys',\n",
       " 446: 'cinema',\n",
       " 447: 'white',\n",
       " 448: '5',\n",
       " 449: 'problem',\n",
       " 450: 'friend',\n",
       " 451: '4',\n",
       " 452: 'beginning',\n",
       " 453: 'dark',\n",
       " 454: 'against',\n",
       " 455: 'drama',\n",
       " 456: 'totally',\n",
       " 457: 'wanted',\n",
       " 458: 'game',\n",
       " 459: 'fans',\n",
       " 460: 'children',\n",
       " 461: 'care',\n",
       " 462: \"you'll\",\n",
       " 463: 'direction',\n",
       " 464: 'under',\n",
       " 465: 'humor',\n",
       " 466: 'seemed',\n",
       " 467: 'guess',\n",
       " 468: \"she's\",\n",
       " 469: 'already',\n",
       " 470: 'despite',\n",
       " 471: 'throughout',\n",
       " 472: 'example',\n",
       " 473: 'quality',\n",
       " 474: 'lead',\n",
       " 475: 'evil',\n",
       " 476: 'final',\n",
       " 477: 'able',\n",
       " 478: 'becomes',\n",
       " 479: 'turn',\n",
       " 480: 'lives',\n",
       " 481: 'side',\n",
       " 482: 'unfortunately',\n",
       " 483: \"i'd\",\n",
       " 484: 'â–',\n",
       " 485: 'days',\n",
       " 486: 'history',\n",
       " 487: 'heart',\n",
       " 488: 'killer',\n",
       " 489: 'wants',\n",
       " 490: 'writing',\n",
       " 491: 'amazing',\n",
       " 492: 'son',\n",
       " 493: 'flick',\n",
       " 494: 'horrible',\n",
       " 495: 'b',\n",
       " 496: 'works',\n",
       " 497: 'michael',\n",
       " 498: 'fine',\n",
       " 499: \"won't\",\n",
       " 500: 'run',\n",
       " 501: 'art',\n",
       " 502: 'close',\n",
       " 503: 'brilliant',\n",
       " 504: 'matter',\n",
       " 505: 'behind',\n",
       " 506: 'kill',\n",
       " 507: 'act',\n",
       " 508: \"they're\",\n",
       " 509: 'enjoyed',\n",
       " 510: 'past',\n",
       " 511: 'favorite',\n",
       " 512: 'town',\n",
       " 513: 'gave',\n",
       " 514: 'directed',\n",
       " 515: 'etc',\n",
       " 516: 'tries',\n",
       " 517: 'turns',\n",
       " 518: 'stuff',\n",
       " 519: 'parts',\n",
       " 520: 'car',\n",
       " 521: 'girls',\n",
       " 522: 'soon',\n",
       " 523: 'late',\n",
       " 524: 'city',\n",
       " 525: 'hand',\n",
       " 526: 'eyes',\n",
       " 527: 'genre',\n",
       " 528: 'themselves',\n",
       " 529: 'expect',\n",
       " 530: 'hour',\n",
       " 531: 'sometimes',\n",
       " 532: 'starts',\n",
       " 533: 'group',\n",
       " 534: 'thinking',\n",
       " 535: 'obviously',\n",
       " 536: 'child',\n",
       " 537: 'viewer',\n",
       " 538: 'myself',\n",
       " 539: 'killed',\n",
       " 540: 'god',\n",
       " 541: 'stop',\n",
       " 542: 'blood',\n",
       " 543: 'voice',\n",
       " 544: 'self',\n",
       " 545: 'actress',\n",
       " 546: 'took',\n",
       " 547: 'type',\n",
       " 548: 'decent',\n",
       " 549: 'says',\n",
       " 550: 'highly',\n",
       " 551: 'feeling',\n",
       " 552: 'except',\n",
       " 553: 'anyway',\n",
       " 554: 'coming',\n",
       " 555: 'heard',\n",
       " 556: 'known',\n",
       " 557: 'happens',\n",
       " 558: 'fight',\n",
       " 559: 'kid',\n",
       " 560: 'slow',\n",
       " 561: 'moment',\n",
       " 562: 'writer',\n",
       " 563: 'daughter',\n",
       " 564: 'experience',\n",
       " 565: 'ok',\n",
       " 566: 'told',\n",
       " 567: 'leave',\n",
       " 568: 'involved',\n",
       " 569: 'extremely',\n",
       " 570: 'chance',\n",
       " 571: 'police',\n",
       " 572: 's',\n",
       " 573: 'stories',\n",
       " 574: 'roles',\n",
       " 575: 'violence',\n",
       " 576: 'happen',\n",
       " 577: 'save',\n",
       " 578: 'particularly',\n",
       " 579: \"wouldn't\",\n",
       " 580: 'score',\n",
       " 581: 'cut',\n",
       " 582: 'looked',\n",
       " 583: 'crap',\n",
       " 584: 'complete',\n",
       " 585: 'lack',\n",
       " 586: 'including',\n",
       " 587: 'please',\n",
       " 588: 'serious',\n",
       " 589: 'murder',\n",
       " 590: 'cannot',\n",
       " 591: 'living',\n",
       " 592: 'ago',\n",
       " 593: 'hit',\n",
       " 594: 'wonder',\n",
       " 595: 'song',\n",
       " 596: 'strong',\n",
       " 597: 'shown',\n",
       " 598: 'happened',\n",
       " 599: 'attempt',\n",
       " 600: 'age',\n",
       " 601: 'hilarious',\n",
       " 602: 'simple',\n",
       " 603: 'james',\n",
       " 604: 'taken',\n",
       " 605: 'hell',\n",
       " 606: 'robert',\n",
       " 607: 'interest',\n",
       " 608: 'obvious',\n",
       " 609: 'seriously',\n",
       " 610: 'david',\n",
       " 611: 'gore',\n",
       " 612: 'none',\n",
       " 613: 'jokes',\n",
       " 614: 'today',\n",
       " 615: 'across',\n",
       " 616: 'cool',\n",
       " 617: 'released',\n",
       " 618: 'hero',\n",
       " 619: 'running',\n",
       " 620: 'hours',\n",
       " 621: 'alone',\n",
       " 622: 'exactly',\n",
       " 623: 'career',\n",
       " 624: 'documentary',\n",
       " 625: 'english',\n",
       " 626: 'opening',\n",
       " 627: 'usually',\n",
       " 628: 'reality',\n",
       " 629: 'important',\n",
       " 630: 'number',\n",
       " 631: 'sad',\n",
       " 632: 'annoying',\n",
       " 633: 'view',\n",
       " 634: \"film's\",\n",
       " 635: 'saying',\n",
       " 636: 'possible',\n",
       " 637: 'shots',\n",
       " 638: 'relationship',\n",
       " 639: 'wish',\n",
       " 640: 'huge',\n",
       " 641: 'yourself',\n",
       " 642: 'cinematography',\n",
       " 643: 'silly',\n",
       " 644: 'light',\n",
       " 645: 'body',\n",
       " 646: 'talent',\n",
       " 647: 'order',\n",
       " 648: 'whose',\n",
       " 649: \"i'll\",\n",
       " 650: 'level',\n",
       " 651: 'ends',\n",
       " 652: 'four',\n",
       " 653: 'change',\n",
       " 654: 'husband',\n",
       " 655: 'started',\n",
       " 656: 'call',\n",
       " 657: 'female',\n",
       " 658: 'ridiculous',\n",
       " 659: 'taking',\n",
       " 660: 'word',\n",
       " 661: 'scary',\n",
       " 662: 'major',\n",
       " 663: 'turned',\n",
       " 664: 'middle',\n",
       " 665: 'single',\n",
       " 666: 'brother',\n",
       " 667: 'mostly',\n",
       " 668: 'knows',\n",
       " 669: 'knew',\n",
       " 670: 'power',\n",
       " 671: 'opinion',\n",
       " 672: 'strange',\n",
       " 673: 'attention',\n",
       " 674: 'words',\n",
       " 675: 'disappointed',\n",
       " 676: 'beyond',\n",
       " 677: 'apparently',\n",
       " 678: 'novel',\n",
       " 679: 'happy',\n",
       " 680: 'ones',\n",
       " 681: 'somewhat',\n",
       " 682: 'rating',\n",
       " 683: 'upon',\n",
       " 684: 'finds',\n",
       " 685: 'modern',\n",
       " 686: 'usual',\n",
       " 687: 'non',\n",
       " 688: 'episodes',\n",
       " 689: 'talking',\n",
       " 690: 'country',\n",
       " 691: 'room',\n",
       " 692: 'cheap',\n",
       " 693: '7',\n",
       " 694: 'musical',\n",
       " 695: 'problems',\n",
       " 696: 'clearly',\n",
       " 697: 'television',\n",
       " 698: 'due',\n",
       " 699: 'basically',\n",
       " 700: 'jack',\n",
       " 701: 'local',\n",
       " 702: 'earth',\n",
       " 703: 'french',\n",
       " 704: 'moving',\n",
       " 705: 'class',\n",
       " 706: 'miss',\n",
       " 707: 'fast',\n",
       " 708: 'predictable',\n",
       " 709: 'thriller',\n",
       " 710: 'events',\n",
       " 711: 'talk',\n",
       " 712: 'british',\n",
       " 713: 'tells',\n",
       " 714: 'whether',\n",
       " 715: 'team',\n",
       " 716: 'review',\n",
       " 717: 'five',\n",
       " 718: 'above',\n",
       " 719: 'entertainment',\n",
       " 720: 'sequence',\n",
       " 721: \"aren't\",\n",
       " 722: 'straight',\n",
       " 723: 'enjoyable',\n",
       " 724: 'future',\n",
       " 725: 'songs',\n",
       " 726: 'george',\n",
       " 727: 'supporting',\n",
       " 728: 'bring',\n",
       " 729: 'ten',\n",
       " 730: 'add',\n",
       " 731: 'romantic',\n",
       " 732: '8',\n",
       " 733: 'hate',\n",
       " 734: 'comic',\n",
       " 735: 'space',\n",
       " 736: 'release',\n",
       " 737: 'within',\n",
       " 738: 'sets',\n",
       " 739: 'similar',\n",
       " 740: 'soundtrack',\n",
       " 741: 'giving',\n",
       " 742: 'dialog',\n",
       " 743: 'mention',\n",
       " 744: 'die',\n",
       " 745: 'near',\n",
       " 746: 'appears',\n",
       " 747: \"haven't\",\n",
       " 748: 'ways',\n",
       " 749: 'lots',\n",
       " 750: 'easily',\n",
       " 751: 'certain',\n",
       " 752: 'showing',\n",
       " 753: 'filmed',\n",
       " 754: 'sequel',\n",
       " 755: 'sorry',\n",
       " 756: 'falls',\n",
       " 757: 'clear',\n",
       " 758: 'comments',\n",
       " 759: 'bunch',\n",
       " 760: 'suspense',\n",
       " 761: 'needs',\n",
       " 762: 'eye',\n",
       " 763: 'named',\n",
       " 764: 't',\n",
       " 765: 'theme',\n",
       " 766: 'dull',\n",
       " 767: 'surprised',\n",
       " 768: 'working',\n",
       " 769: 'tried',\n",
       " 770: 'minute',\n",
       " 771: 'gone',\n",
       " 772: \"what's\",\n",
       " 773: 'feature',\n",
       " 774: 'among',\n",
       " 775: 'storyline',\n",
       " 776: 'theater',\n",
       " 777: 'king',\n",
       " 778: 'stay',\n",
       " 779: 'rock',\n",
       " 780: 'easy',\n",
       " 781: 'message',\n",
       " 782: 'fall',\n",
       " 783: 'sister',\n",
       " 784: \"'\",\n",
       " 785: 'using',\n",
       " 786: 'effort',\n",
       " 787: 'stand',\n",
       " 788: 'dr',\n",
       " 789: 'doubt',\n",
       " 790: 'okay',\n",
       " 791: 'dog',\n",
       " 792: 'monster',\n",
       " 793: 'herself',\n",
       " 794: 'buy',\n",
       " 795: 'viewers',\n",
       " 796: 'feels',\n",
       " 797: 'elements',\n",
       " 798: 'peter',\n",
       " 799: 'avoid',\n",
       " 800: 'typical',\n",
       " 801: 'kept',\n",
       " 802: 'points',\n",
       " 803: 'deal',\n",
       " 804: 'editing',\n",
       " 805: 'tale',\n",
       " 806: 'nearly',\n",
       " 807: 'greatest',\n",
       " 808: '9',\n",
       " 809: 'general',\n",
       " 810: 'subject',\n",
       " 811: 'means',\n",
       " 812: 'realistic',\n",
       " 813: 'mystery',\n",
       " 814: 'check',\n",
       " 815: 'imagine',\n",
       " 816: 'oscar',\n",
       " 817: 'period',\n",
       " 818: 'follow',\n",
       " 819: 'material',\n",
       " 820: 'fantastic',\n",
       " 821: 'actual',\n",
       " 822: 'viewing',\n",
       " 823: 'crime',\n",
       " 824: 'famous',\n",
       " 825: 'parents',\n",
       " 826: 'richard',\n",
       " 827: 'somehow',\n",
       " 828: 'rent',\n",
       " 829: 'move',\n",
       " 830: 'lady',\n",
       " 831: 'forget',\n",
       " 832: 'believable',\n",
       " 833: 'reviews',\n",
       " 834: 'form',\n",
       " 835: 'weak',\n",
       " 836: 'sit',\n",
       " 837: 'begins',\n",
       " 838: \"you've\",\n",
       " 839: 'surprise',\n",
       " 840: 'red',\n",
       " 841: 'open',\n",
       " 842: 'brought',\n",
       " 843: 'animation',\n",
       " 844: 'eventually',\n",
       " 845: 'figure',\n",
       " 846: 'paul',\n",
       " 847: 'atmosphere',\n",
       " 848: 're',\n",
       " 849: 'lame',\n",
       " 850: 'hear',\n",
       " 851: 'tom',\n",
       " 852: 'dance',\n",
       " 853: 'premise',\n",
       " 854: '20',\n",
       " 855: 'situation',\n",
       " 856: 'leads',\n",
       " 857: 'indeed',\n",
       " 858: 'average',\n",
       " 859: 'sequences',\n",
       " 860: 'box',\n",
       " 861: 'wait',\n",
       " 862: 'killing',\n",
       " 863: 'whatever',\n",
       " 864: 'expected',\n",
       " 865: \"who's\",\n",
       " 866: 'hot',\n",
       " 867: 'poorly',\n",
       " 868: 'shame',\n",
       " 869: 'imdb',\n",
       " 870: 'third',\n",
       " 871: 'sci',\n",
       " 872: 'learn',\n",
       " 873: 'decided',\n",
       " 874: 'gay',\n",
       " 875: 'note',\n",
       " 876: 'season',\n",
       " 877: 'unless',\n",
       " 878: 'fi',\n",
       " 879: 'particular',\n",
       " 880: 'deep',\n",
       " 881: 'needed',\n",
       " 882: 'truth',\n",
       " 883: 'york',\n",
       " 884: 'reading',\n",
       " 885: 'free',\n",
       " 886: 'male',\n",
       " 887: 'footage',\n",
       " 888: 'leaves',\n",
       " 889: 'air',\n",
       " 890: 'difficult',\n",
       " 891: 'emotional',\n",
       " 892: 'society',\n",
       " 893: 'question',\n",
       " 894: 'crew',\n",
       " 895: 'boys',\n",
       " 896: 'romance',\n",
       " 897: 'forced',\n",
       " 898: 'credits',\n",
       " 899: 'doctor',\n",
       " 900: 'meet',\n",
       " 901: 'sounds',\n",
       " 902: 'stage',\n",
       " 903: 'cheesy',\n",
       " 904: 'possibly',\n",
       " 905: 'write',\n",
       " 906: \"let's\",\n",
       " 907: 'sexual',\n",
       " 908: 'hands',\n",
       " 909: 'acted',\n",
       " 910: 'memorable',\n",
       " 911: 'became',\n",
       " 912: 'whom',\n",
       " 913: 'western',\n",
       " 914: 'otherwise',\n",
       " 915: 'plus',\n",
       " 916: 'superb',\n",
       " 917: 'effect',\n",
       " 918: 'begin',\n",
       " 919: 'meets',\n",
       " 920: 'forward',\n",
       " 921: 'laughs',\n",
       " 922: 'masterpiece',\n",
       " 923: 'perfectly',\n",
       " 924: 'beauty',\n",
       " 925: 'screenplay',\n",
       " 926: 'interested',\n",
       " 927: 'personal',\n",
       " 928: 'inside',\n",
       " 929: 'street',\n",
       " 930: 'worked',\n",
       " 931: 'background',\n",
       " 932: 'previous',\n",
       " 933: 'comment',\n",
       " 934: 'e',\n",
       " 935: 'weird',\n",
       " 936: 'earlier',\n",
       " 937: 'de',\n",
       " 938: 'features',\n",
       " 939: 'nature',\n",
       " 940: 'fire',\n",
       " 941: 'result',\n",
       " 942: 'incredibly',\n",
       " 943: 'total',\n",
       " 944: 'nor',\n",
       " 945: 'quickly',\n",
       " 946: 'america',\n",
       " 947: 'island',\n",
       " 948: 'battle',\n",
       " 949: 'japanese',\n",
       " 950: 'lee',\n",
       " 951: 'writers',\n",
       " 952: 'following',\n",
       " 953: 'towards',\n",
       " 954: 'badly',\n",
       " 955: 'baby',\n",
       " 956: 'mess',\n",
       " 957: 'creepy',\n",
       " 958: 'setting',\n",
       " 959: 'keeps',\n",
       " 960: 'crazy',\n",
       " 961: 'political',\n",
       " 962: 'joke',\n",
       " 963: 'directors',\n",
       " 964: 'powerful',\n",
       " 965: 'pay',\n",
       " 966: 'water',\n",
       " 967: 'plenty',\n",
       " 968: 'realize',\n",
       " 969: 'dumb',\n",
       " 970: 'cop',\n",
       " 971: 'ask',\n",
       " 972: 'copy',\n",
       " 973: 'business',\n",
       " 974: 'mark',\n",
       " 975: 'appear',\n",
       " 976: 'rate',\n",
       " 977: 'directing',\n",
       " 978: 'brings',\n",
       " 979: 'joe',\n",
       " 980: 'outside',\n",
       " 981: 'dramatic',\n",
       " 982: 'unique',\n",
       " 983: 'older',\n",
       " 984: 'wasted',\n",
       " 985: \"'the\",\n",
       " 986: 'bill',\n",
       " 987: 'various',\n",
       " 988: 'front',\n",
       " 989: 'fairly',\n",
       " 990: 'portrayed',\n",
       " 991: 'spent',\n",
       " 992: 'reasons',\n",
       " 993: 'gun',\n",
       " 994: 'fighting',\n",
       " 995: 'rich',\n",
       " 996: 'leading',\n",
       " 997: 'telling',\n",
       " 998: 'cover',\n",
       " 999: 'development',\n",
       " 1000: 'apart',\n",
       " ...}"
      ]
     },
     "execution_count": 29,
     "metadata": {},
     "output_type": "execute_result"
    }
   ],
   "source": [
    "tokenizer.index_word"
   ]
  },
  {
   "cell_type": "code",
   "execution_count": 30,
   "id": "81f3f8a2-f0b1-4c7b-9bb7-56c7e4422525",
   "metadata": {},
   "outputs": [],
   "source": [
    "vocab_size = tokenizer.num_words+1"
   ]
  },
  {
   "cell_type": "code",
   "execution_count": 31,
   "id": "6dc4491f-6d3e-408c-a7b9-067179afa72b",
   "metadata": {},
   "outputs": [],
   "source": [
    "def text_encoding(txt):\n",
    "    # texts_to_sequences Transforms each text in texts to a sequence of integers.\n",
    "    encoded_docs = tokenizer.texts_to_sequences(txt)\n",
    "\n",
    "    # pad_sequences is used to ensure that all sequences in a list have the same length.\n",
    "    padded_sequence = pad_sequences(encoded_docs, maxlen=128)\n",
    "\n",
    "    return padded_sequence"
   ]
  },
  {
   "cell_type": "code",
   "execution_count": 32,
   "id": "5200af7d-920f-49b6-9a3c-685d95e2a322",
   "metadata": {},
   "outputs": [],
   "source": [
    "x_train = text_encoding(x_train)\n",
    "x_test = text_encoding(x_test)"
   ]
  },
  {
   "cell_type": "code",
   "execution_count": 33,
   "id": "f96a0853-d96a-4a8d-a720-0796415e44ff",
   "metadata": {},
   "outputs": [
    {
     "data": {
      "text/plain": [
       "5001"
      ]
     },
     "execution_count": 33,
     "metadata": {},
     "output_type": "execute_result"
    }
   ],
   "source": [
    "vocab_size"
   ]
  },
  {
   "cell_type": "markdown",
   "id": "6f07f68e",
   "metadata": {},
   "source": [
    "### Split the dataset into Training & Testing set"
   ]
  },
  {
   "cell_type": "code",
   "execution_count": 35,
   "id": "6cf61208",
   "metadata": {},
   "outputs": [],
   "source": [
    "from sklearn.model_selection import train_test_split"
   ]
  },
  {
   "cell_type": "code",
   "execution_count": 36,
   "id": "5812887d-ccb7-4731-b9c0-e4eed6a23bda",
   "metadata": {},
   "outputs": [
    {
     "data": {
      "text/plain": [
       "0        0\n",
       "1        1\n",
       "2        0\n",
       "3        0\n",
       "4        0\n",
       "        ..\n",
       "49964    0\n",
       "49965    0\n",
       "49966    0\n",
       "49967    0\n",
       "49968    1\n",
       "Name: sentiment, Length: 49969, dtype: int64"
      ]
     },
     "execution_count": 36,
     "metadata": {},
     "output_type": "execute_result"
    }
   ],
   "source": [
    "y"
   ]
  },
  {
   "cell_type": "markdown",
   "id": "1f4dba57",
   "metadata": {},
   "source": [
    "### Create keras Sequential Model with LSTM Layers"
   ]
  },
  {
   "cell_type": "code",
   "execution_count": 38,
   "id": "346d04f3",
   "metadata": {},
   "outputs": [],
   "source": [
    "from keras import Sequential\n",
    "from keras import layers"
   ]
  },
  {
   "cell_type": "code",
   "execution_count": 39,
   "id": "d8c8bcd7-efb6-4b0c-973e-72d1c0bc9361",
   "metadata": {},
   "outputs": [
    {
     "name": "stdout",
     "output_type": "stream",
     "text": [
      "shape of x_train : (39975, 128)\n",
      "shape of x_test : (9994, 128)\n"
     ]
    }
   ],
   "source": [
    "print(f'shape of x_train : {(x_train.shape)}')\n",
    "print(f'shape of x_test : {(x_test.shape)}')"
   ]
  },
  {
   "cell_type": "code",
   "execution_count": 40,
   "id": "c652c725-0a12-4e62-86a6-fb3b9896046f",
   "metadata": {},
   "outputs": [
    {
     "data": {
      "text/plain": [
       "5001"
      ]
     },
     "execution_count": 40,
     "metadata": {},
     "output_type": "execute_result"
    }
   ],
   "source": [
    "vocab_size"
   ]
  },
  {
   "cell_type": "code",
   "execution_count": 41,
   "id": "7520e66d-d73d-4408-8885-9fbea665fc07",
   "metadata": {},
   "outputs": [],
   "source": [
    "model = Sequential()\n",
    "model.add(Embedding(vocab_size,128))\n",
    "model.add(GRU(62))\n",
    "model.add(Dense(128,activation='relu'))\n",
    "model.add(Dense(62,activation='relu'))\n",
    "model.add(Dense(32,activation='relu'))\n",
    "model.add(Dense(1,activation='sigmoid'))\n",
    "\n",
    "model.compile(optimizer='rmsprop',loss='binary_crossentropy',metrics=['accuracy'])"
   ]
  },
  {
   "cell_type": "code",
   "execution_count": 42,
   "id": "7006dcdf-c7d8-413f-9d0d-d5b3d3d5c14b",
   "metadata": {},
   "outputs": [
    {
     "data": {
      "text/html": [
       "<pre style=\"white-space:pre;overflow-x:auto;line-height:normal;font-family:Menlo,'DejaVu Sans Mono',consolas,'Courier New',monospace\"><span style=\"font-weight: bold\">Model: \"sequential\"</span>\n",
       "</pre>\n"
      ],
      "text/plain": [
       "\u001b[1mModel: \"sequential\"\u001b[0m\n"
      ]
     },
     "metadata": {},
     "output_type": "display_data"
    },
    {
     "data": {
      "text/html": [
       "<pre style=\"white-space:pre;overflow-x:auto;line-height:normal;font-family:Menlo,'DejaVu Sans Mono',consolas,'Courier New',monospace\">┏━━━━━━━━━━━━━━━━━━━━━━━━━━━━━━━━━━━━━━┳━━━━━━━━━━━━━━━━━━━━━━━━━━━━━┳━━━━━━━━━━━━━━━━━┓\n",
       "┃<span style=\"font-weight: bold\"> Layer (type)                         </span>┃<span style=\"font-weight: bold\"> Output Shape                </span>┃<span style=\"font-weight: bold\">         Param # </span>┃\n",
       "┡━━━━━━━━━━━━━━━━━━━━━━━━━━━━━━━━━━━━━━╇━━━━━━━━━━━━━━━━━━━━━━━━━━━━━╇━━━━━━━━━━━━━━━━━┩\n",
       "│ embedding (<span style=\"color: #0087ff; text-decoration-color: #0087ff\">Embedding</span>)                │ ?                           │     <span style=\"color: #00af00; text-decoration-color: #00af00\">0</span> (unbuilt) │\n",
       "├──────────────────────────────────────┼─────────────────────────────┼─────────────────┤\n",
       "│ gru (<span style=\"color: #0087ff; text-decoration-color: #0087ff\">GRU</span>)                            │ ?                           │     <span style=\"color: #00af00; text-decoration-color: #00af00\">0</span> (unbuilt) │\n",
       "├──────────────────────────────────────┼─────────────────────────────┼─────────────────┤\n",
       "│ dense (<span style=\"color: #0087ff; text-decoration-color: #0087ff\">Dense</span>)                        │ ?                           │     <span style=\"color: #00af00; text-decoration-color: #00af00\">0</span> (unbuilt) │\n",
       "├──────────────────────────────────────┼─────────────────────────────┼─────────────────┤\n",
       "│ dense_1 (<span style=\"color: #0087ff; text-decoration-color: #0087ff\">Dense</span>)                      │ ?                           │     <span style=\"color: #00af00; text-decoration-color: #00af00\">0</span> (unbuilt) │\n",
       "├──────────────────────────────────────┼─────────────────────────────┼─────────────────┤\n",
       "│ dense_2 (<span style=\"color: #0087ff; text-decoration-color: #0087ff\">Dense</span>)                      │ ?                           │     <span style=\"color: #00af00; text-decoration-color: #00af00\">0</span> (unbuilt) │\n",
       "├──────────────────────────────────────┼─────────────────────────────┼─────────────────┤\n",
       "│ dense_3 (<span style=\"color: #0087ff; text-decoration-color: #0087ff\">Dense</span>)                      │ ?                           │     <span style=\"color: #00af00; text-decoration-color: #00af00\">0</span> (unbuilt) │\n",
       "└──────────────────────────────────────┴─────────────────────────────┴─────────────────┘\n",
       "</pre>\n"
      ],
      "text/plain": [
       "┏━━━━━━━━━━━━━━━━━━━━━━━━━━━━━━━━━━━━━━┳━━━━━━━━━━━━━━━━━━━━━━━━━━━━━┳━━━━━━━━━━━━━━━━━┓\n",
       "┃\u001b[1m \u001b[0m\u001b[1mLayer (type)                        \u001b[0m\u001b[1m \u001b[0m┃\u001b[1m \u001b[0m\u001b[1mOutput Shape               \u001b[0m\u001b[1m \u001b[0m┃\u001b[1m \u001b[0m\u001b[1m        Param #\u001b[0m\u001b[1m \u001b[0m┃\n",
       "┡━━━━━━━━━━━━━━━━━━━━━━━━━━━━━━━━━━━━━━╇━━━━━━━━━━━━━━━━━━━━━━━━━━━━━╇━━━━━━━━━━━━━━━━━┩\n",
       "│ embedding (\u001b[38;5;33mEmbedding\u001b[0m)                │ ?                           │     \u001b[38;5;34m0\u001b[0m (unbuilt) │\n",
       "├──────────────────────────────────────┼─────────────────────────────┼─────────────────┤\n",
       "│ gru (\u001b[38;5;33mGRU\u001b[0m)                            │ ?                           │     \u001b[38;5;34m0\u001b[0m (unbuilt) │\n",
       "├──────────────────────────────────────┼─────────────────────────────┼─────────────────┤\n",
       "│ dense (\u001b[38;5;33mDense\u001b[0m)                        │ ?                           │     \u001b[38;5;34m0\u001b[0m (unbuilt) │\n",
       "├──────────────────────────────────────┼─────────────────────────────┼─────────────────┤\n",
       "│ dense_1 (\u001b[38;5;33mDense\u001b[0m)                      │ ?                           │     \u001b[38;5;34m0\u001b[0m (unbuilt) │\n",
       "├──────────────────────────────────────┼─────────────────────────────┼─────────────────┤\n",
       "│ dense_2 (\u001b[38;5;33mDense\u001b[0m)                      │ ?                           │     \u001b[38;5;34m0\u001b[0m (unbuilt) │\n",
       "├──────────────────────────────────────┼─────────────────────────────┼─────────────────┤\n",
       "│ dense_3 (\u001b[38;5;33mDense\u001b[0m)                      │ ?                           │     \u001b[38;5;34m0\u001b[0m (unbuilt) │\n",
       "└──────────────────────────────────────┴─────────────────────────────┴─────────────────┘\n"
      ]
     },
     "metadata": {},
     "output_type": "display_data"
    },
    {
     "data": {
      "text/html": [
       "<pre style=\"white-space:pre;overflow-x:auto;line-height:normal;font-family:Menlo,'DejaVu Sans Mono',consolas,'Courier New',monospace\"><span style=\"font-weight: bold\"> Total params: </span><span style=\"color: #00af00; text-decoration-color: #00af00\">0</span> (0.00 B)\n",
       "</pre>\n"
      ],
      "text/plain": [
       "\u001b[1m Total params: \u001b[0m\u001b[38;5;34m0\u001b[0m (0.00 B)\n"
      ]
     },
     "metadata": {},
     "output_type": "display_data"
    },
    {
     "data": {
      "text/html": [
       "<pre style=\"white-space:pre;overflow-x:auto;line-height:normal;font-family:Menlo,'DejaVu Sans Mono',consolas,'Courier New',monospace\"><span style=\"font-weight: bold\"> Trainable params: </span><span style=\"color: #00af00; text-decoration-color: #00af00\">0</span> (0.00 B)\n",
       "</pre>\n"
      ],
      "text/plain": [
       "\u001b[1m Trainable params: \u001b[0m\u001b[38;5;34m0\u001b[0m (0.00 B)\n"
      ]
     },
     "metadata": {},
     "output_type": "display_data"
    },
    {
     "data": {
      "text/html": [
       "<pre style=\"white-space:pre;overflow-x:auto;line-height:normal;font-family:Menlo,'DejaVu Sans Mono',consolas,'Courier New',monospace\"><span style=\"font-weight: bold\"> Non-trainable params: </span><span style=\"color: #00af00; text-decoration-color: #00af00\">0</span> (0.00 B)\n",
       "</pre>\n"
      ],
      "text/plain": [
       "\u001b[1m Non-trainable params: \u001b[0m\u001b[38;5;34m0\u001b[0m (0.00 B)\n"
      ]
     },
     "metadata": {},
     "output_type": "display_data"
    }
   ],
   "source": [
    "model.summary()"
   ]
  },
  {
   "cell_type": "markdown",
   "id": "4999db65",
   "metadata": {},
   "source": [
    "### Compile the model"
   ]
  },
  {
   "cell_type": "markdown",
   "id": "e47a9466",
   "metadata": {},
   "source": [
    "### Train the model with our training set"
   ]
  },
  {
   "cell_type": "code",
   "execution_count": 45,
   "id": "5fedd089-6eb3-40e8-a769-695ca6258c29",
   "metadata": {},
   "outputs": [
    {
     "data": {
      "text/plain": [
       "5001"
      ]
     },
     "execution_count": 45,
     "metadata": {},
     "output_type": "execute_result"
    }
   ],
   "source": [
    "vocab_size"
   ]
  },
  {
   "cell_type": "markdown",
   "id": "51919aea",
   "metadata": {},
   "source": [
    "### Make prediction with X_test"
   ]
  },
  {
   "cell_type": "code",
   "execution_count": 47,
   "id": "0fc412aa",
   "metadata": {},
   "outputs": [
    {
     "name": "stdout",
     "output_type": "stream",
     "text": [
      "Epoch 1/4\n",
      "\u001b[1m1250/1250\u001b[0m \u001b[32m━━━━━━━━━━━━━━━━━━━━\u001b[0m\u001b[37m\u001b[0m \u001b[1m82s\u001b[0m 62ms/step - accuracy: 0.7121 - loss: 0.5271 - val_accuracy: 0.8514 - val_loss: 0.3504\n",
      "Epoch 2/4\n",
      "\u001b[1m1250/1250\u001b[0m \u001b[32m━━━━━━━━━━━━━━━━━━━━\u001b[0m\u001b[37m\u001b[0m \u001b[1m77s\u001b[0m 62ms/step - accuracy: 0.8811 - loss: 0.2836 - val_accuracy: 0.8765 - val_loss: 0.2832\n",
      "Epoch 3/4\n",
      "\u001b[1m1250/1250\u001b[0m \u001b[32m━━━━━━━━━━━━━━━━━━━━\u001b[0m\u001b[37m\u001b[0m \u001b[1m77s\u001b[0m 62ms/step - accuracy: 0.9105 - loss: 0.2272 - val_accuracy: 0.8870 - val_loss: 0.2703\n",
      "Epoch 4/4\n",
      "\u001b[1m1250/1250\u001b[0m \u001b[32m━━━━━━━━━━━━━━━━━━━━\u001b[0m\u001b[37m\u001b[0m \u001b[1m77s\u001b[0m 61ms/step - accuracy: 0.9221 - loss: 0.1972 - val_accuracy: 0.8782 - val_loss: 0.2977\n"
     ]
    },
    {
     "data": {
      "text/plain": [
       "<keras.src.callbacks.history.History at 0x163ef72cc20>"
      ]
     },
     "execution_count": 47,
     "metadata": {},
     "output_type": "execute_result"
    }
   ],
   "source": [
    "model.fit(x_train,\n",
    "          y_train,\n",
    "          epochs=4,\n",
    "          batch_size=32,\n",
    "         validation_data=[x_test,y_test])"
   ]
  },
  {
   "cell_type": "code",
   "execution_count": 48,
   "id": "71a06fe6-d0bc-46a9-ab5b-98fcb24771e6",
   "metadata": {},
   "outputs": [
    {
     "name": "stdout",
     "output_type": "stream",
     "text": [
      "\u001b[1m313/313\u001b[0m \u001b[32m━━━━━━━━━━━━━━━━━━━━\u001b[0m\u001b[37m\u001b[0m \u001b[1m6s\u001b[0m 19ms/step - accuracy: 0.8757 - loss: 0.2983\n"
     ]
    },
    {
     "data": {
      "text/plain": [
       "[0.29769691824913025, 0.8782269358634949]"
      ]
     },
     "execution_count": 48,
     "metadata": {},
     "output_type": "execute_result"
    }
   ],
   "source": [
    "model.evaluate(x_test,y_test)"
   ]
  },
  {
   "cell_type": "code",
   "execution_count": 49,
   "id": "6686fafd",
   "metadata": {},
   "outputs": [
    {
     "name": "stdout",
     "output_type": "stream",
     "text": [
      "\u001b[1m313/313\u001b[0m \u001b[32m━━━━━━━━━━━━━━━━━━━━\u001b[0m\u001b[37m\u001b[0m \u001b[1m6s\u001b[0m 19ms/step\n"
     ]
    }
   ],
   "source": [
    "y_pred = model.predict(x_test)"
   ]
  },
  {
   "cell_type": "code",
   "execution_count": 50,
   "id": "bb1d5a5a-e5f1-46f4-a889-3c863a59c903",
   "metadata": {},
   "outputs": [
    {
     "data": {
      "text/plain": [
       "9994"
      ]
     },
     "execution_count": 50,
     "metadata": {},
     "output_type": "execute_result"
    }
   ],
   "source": [
    "len(y_pred)"
   ]
  },
  {
   "cell_type": "code",
   "execution_count": 51,
   "id": "90f0a5bc-2207-4a5c-acdc-e7c0c97e9722",
   "metadata": {},
   "outputs": [
    {
     "data": {
      "text/plain": [
       "9994"
      ]
     },
     "execution_count": 51,
     "metadata": {},
     "output_type": "execute_result"
    }
   ],
   "source": [
    "len(y_test)"
   ]
  },
  {
   "cell_type": "markdown",
   "id": "bb2d0c16",
   "metadata": {},
   "source": [
    "### Convert to 0 and 1 with higher probability towards 1"
   ]
  },
  {
   "cell_type": "code",
   "execution_count": 69,
   "id": "30cf0090",
   "metadata": {},
   "outputs": [],
   "source": [
    "y_pred= [0 if i<.5 else 1 for i in y_pred]"
   ]
  },
  {
   "cell_type": "markdown",
   "id": "902a2da4",
   "metadata": {},
   "source": [
    "### Evaluate the model"
   ]
  },
  {
   "cell_type": "code",
   "execution_count": 72,
   "id": "cff9ea47",
   "metadata": {},
   "outputs": [],
   "source": [
    "from sklearn.metrics import confusion_matrix, classification_report, accuracy_score"
   ]
  },
  {
   "cell_type": "markdown",
   "id": "1c8bd282",
   "metadata": {},
   "source": [
    "### Check accuracy score"
   ]
  },
  {
   "cell_type": "code",
   "execution_count": 75,
   "id": "e45a41a8-d657-488e-a0e5-4dbd73fec2f8",
   "metadata": {},
   "outputs": [
    {
     "data": {
      "text/plain": [
       "0.878226936161697"
      ]
     },
     "execution_count": 75,
     "metadata": {},
     "output_type": "execute_result"
    }
   ],
   "source": [
    "accuracy_score(y_test, y_pred)"
   ]
  },
  {
   "cell_type": "markdown",
   "id": "d14f7b63",
   "metadata": {},
   "source": [
    "### Check confusion matrix"
   ]
  },
  {
   "cell_type": "code",
   "execution_count": 78,
   "id": "6c7aaab9",
   "metadata": {},
   "outputs": [
    {
     "data": {
      "text/plain": [
       "<Axes: >"
      ]
     },
     "execution_count": 78,
     "metadata": {},
     "output_type": "execute_result"
    },
    {
     "data": {
      "image/png": "[encoded data removed]",
      "text/plain": [
       "<Figure size 500x400 with 2 Axes>"
      ]
     },
     "metadata": {},
     "output_type": "display_data"
    }
   ],
   "source": [
    "plt.figure(figsize=(5,4))\n",
    "sns.heatmap(confusion_matrix(y_test,y_pred), annot=True, fmt='d')"
   ]
  },
  {
   "cell_type": "markdown",
   "id": "953c5941",
   "metadata": {},
   "source": [
    "### Print Classification report"
   ]
  },
  {
   "cell_type": "code",
   "execution_count": 81,
   "id": "1b7e89ca",
   "metadata": {},
   "outputs": [
    {
     "name": "stdout",
     "output_type": "stream",
     "text": [
      "              precision    recall  f1-score   support\n",
      "\n",
      "           0       0.84      0.94      0.88      4986\n",
      "           1       0.93      0.82      0.87      5008\n",
      "\n",
      "    accuracy                           0.88      9994\n",
      "   macro avg       0.88      0.88      0.88      9994\n",
      "weighted avg       0.88      0.88      0.88      9994\n",
      "\n"
     ]
    }
   ],
   "source": [
    "print(classification_report(y_test, y_pred))"
   ]
  },
  {
   "cell_type": "markdown",
   "id": "8d084185",
   "metadata": {},
   "source": [
    "***"
   ]
  },
  {
   "cell_type": "code",
   "execution_count": null,
   "id": "529afc79-bc35-4d44-976c-e6f7bdc0a1fb",
   "metadata": {},
   "outputs": [],
   "source": []
  }
 ],
 "metadata": {
  "kernelspec": {
   "display_name": "Python 3 (ipykernel)",
   "language": "python",
   "name": "python3"
  },
  "language_info": {
   "codemirror_mode": {
    "name": "ipython",
    "version": 3
   },
   "file_extension": ".py",
   "mimetype": "text/x-python",
   "name": "python",
   "nbconvert_exporter": "python",
   "pygments_lexer": "ipython3",
   "version": "3.12.4"
  }
 },
 "nbformat": 4,
 "nbformat_minor": 5
}
